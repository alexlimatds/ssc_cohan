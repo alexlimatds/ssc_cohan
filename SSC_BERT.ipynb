{
 "cells": [
  {
   "cell_type": "markdown",
   "id": "hourly-leone",
   "metadata": {},
   "source": [
    "# SSC BERT\n",
    "\n",
    "\n",
    "Cohan et al (2019) propose a strategy of how exploit BERT to deal with the Sequential Sentence Classification (SSC) task: we concatenate sentences by inserting a \\[SEP\\] token between two subsequent sentences; we feed BERT with the concatenation, or block of sentences, and we perform classification from the embeddings of \\[SEP\\] tokens.\n",
    "\n",
    "This notebook tries to replicate Cohan et al (2019) models. The dataset was also published by the in the same work.\n",
    "\n",
    "### References:\n",
    "- Arman Cohan, Iz Beltagy, Daniel King, Bhavana Dalvi, Dan Weld. **Pretrained Language Models for Sequential Sentence Classification**. 2019. EMNLP."
   ]
  },
  {
   "cell_type": "markdown",
   "id": "hazardous-associate",
   "metadata": {},
   "source": [
    "### Notebook parameters"
   ]
  },
  {
   "cell_type": "code",
   "execution_count": 1,
   "id": "worse-intermediate",
   "metadata": {},
   "outputs": [],
   "source": [
    "MAX_SENTENCE_LENGTH = 75\n",
    "SENTENCE_LENGHT_UNIT = 'token' # 'char' or 'token'\n",
    "N_EPOCHS = 2\n",
    "BATCH_SIZE = 4\n",
    "LEARNING_RATE = 5e-5\n",
    "DROPOUT = 0.1\n",
    "USE_MLP = False\n",
    "MAX_SEQUENCE_LENGTH = 512 # max number of tokens in a block"
   ]
  },
  {
   "cell_type": "code",
   "execution_count": 2,
   "id": "breeding-class",
   "metadata": {},
   "outputs": [],
   "source": [
    "model_id = 'allenai/scibert_scivocab_uncased' # id from HuggingFaces\n",
    "embedding_dim = 768\n",
    "model_reference = 'SSC_SciBERT'"
   ]
  },
  {
   "cell_type": "markdown",
   "id": "editorial-milan",
   "metadata": {},
   "source": [
    "### Dependencies"
   ]
  },
  {
   "cell_type": "code",
   "execution_count": 3,
   "id": "entire-roberts",
   "metadata": {},
   "outputs": [
    {
     "name": "stdout",
     "output_type": "stream",
     "text": [
      "Enabling notebook extension jupyter-js-widgets/extension...\n",
      "      - Validating: \u001b[32mOK\u001b[0m\n"
     ]
    }
   ],
   "source": [
    "!jupyter nbextension enable --py widgetsnbextension"
   ]
  },
  {
   "cell_type": "code",
   "execution_count": 4,
   "id": "certified-island",
   "metadata": {},
   "outputs": [
    {
     "name": "stdout",
     "output_type": "stream",
     "text": [
      "Defaulting to user installation because normal site-packages is not writeable\n",
      "Requirement already satisfied: transformers in /opt/conda/lib/python3.8/site-packages (4.17.0)\n",
      "Requirement already satisfied: tokenizers!=0.11.3,>=0.11.1 in /opt/conda/lib/python3.8/site-packages (from transformers) (0.11.6)\n",
      "Requirement already satisfied: tqdm>=4.27 in /users/iris/agomesde/.local/lib/python3.8/site-packages (from transformers) (4.64.1)\n",
      "Requirement already satisfied: regex!=2019.12.17 in /opt/conda/lib/python3.8/site-packages (from transformers) (2021.3.17)\n",
      "Requirement already satisfied: sacremoses in /opt/conda/lib/python3.8/site-packages (from transformers) (0.0.35)\n",
      "Requirement already satisfied: filelock in /opt/conda/lib/python3.8/site-packages (from transformers) (3.0.12)\n",
      "Requirement already satisfied: huggingface-hub<1.0,>=0.1.0 in /users/iris/agomesde/.local/lib/python3.8/site-packages (from transformers) (0.8.1)\n",
      "Requirement already satisfied: pyyaml>=5.1 in /opt/conda/lib/python3.8/site-packages (from transformers) (5.4.1)\n",
      "Requirement already satisfied: numpy>=1.17 in /opt/conda/lib/python3.8/site-packages (from transformers) (1.19.2)\n",
      "Requirement already satisfied: requests in /opt/conda/lib/python3.8/site-packages (from transformers) (2.24.0)\n",
      "Requirement already satisfied: packaging>=20.0 in /users/iris/agomesde/.local/lib/python3.8/site-packages (from transformers) (21.3)\n",
      "Requirement already satisfied: joblib in /opt/conda/lib/python3.8/site-packages (from sacremoses->transformers) (1.0.1)\n",
      "Requirement already satisfied: click in /opt/conda/lib/python3.8/site-packages (from sacremoses->transformers) (7.1.2)\n",
      "Requirement already satisfied: six in /opt/conda/lib/python3.8/site-packages (from sacremoses->transformers) (1.15.0)\n",
      "Requirement already satisfied: typing-extensions>=3.7.4.3 in /opt/conda/lib/python3.8/site-packages (from huggingface-hub<1.0,>=0.1.0->transformers) (3.7.4.3)\n",
      "Requirement already satisfied: urllib3!=1.25.0,!=1.25.1,<1.26,>=1.21.1 in /opt/conda/lib/python3.8/site-packages (from requests->transformers) (1.25.11)\n",
      "Requirement already satisfied: certifi>=2017.4.17 in /opt/conda/lib/python3.8/site-packages (from requests->transformers) (2021.5.30)\n",
      "Requirement already satisfied: chardet<4,>=3.0.2 in /opt/conda/lib/python3.8/site-packages (from requests->transformers) (3.0.4)\n",
      "Requirement already satisfied: idna<3,>=2.5 in /opt/conda/lib/python3.8/site-packages (from requests->transformers) (2.10)\n",
      "Requirement already satisfied: pyparsing!=3.0.5,>=2.0.2 in /opt/conda/lib/python3.8/site-packages (from packaging>=20.0->transformers) (2.4.7)\n"
     ]
    }
   ],
   "source": [
    "!pip install transformers"
   ]
  },
  {
   "cell_type": "code",
   "execution_count": 5,
   "id": "twelve-winter",
   "metadata": {},
   "outputs": [
    {
     "data": {
      "text/plain": [
       "'4.17.0'"
      ]
     },
     "execution_count": 5,
     "metadata": {},
     "output_type": "execute_result"
    }
   ],
   "source": [
    "import transformers\n",
    "transformers.__version__"
   ]
  },
  {
   "cell_type": "code",
   "execution_count": 6,
   "id": "framed-fleece",
   "metadata": {},
   "outputs": [
    {
     "data": {
      "text/plain": [
       "'1.9.0a0+df837d0'"
      ]
     },
     "execution_count": 6,
     "metadata": {},
     "output_type": "execute_result"
    }
   ],
   "source": [
    "import torch\n",
    "torch.__version__"
   ]
  },
  {
   "cell_type": "code",
   "execution_count": 7,
   "id": "otherwise-header",
   "metadata": {},
   "outputs": [
    {
     "data": {
      "text/plain": [
       "'0.24.1'"
      ]
     },
     "execution_count": 7,
     "metadata": {},
     "output_type": "execute_result"
    }
   ],
   "source": [
    "import sklearn\n",
    "sklearn.__version__"
   ]
  },
  {
   "cell_type": "code",
   "execution_count": 8,
   "id": "narrative-humor",
   "metadata": {},
   "outputs": [
    {
     "data": {
      "text/plain": [
       "'1.19.2'"
      ]
     },
     "execution_count": 8,
     "metadata": {},
     "output_type": "execute_result"
    }
   ],
   "source": [
    "import numpy as np\n",
    "np.__version__"
   ]
  },
  {
   "cell_type": "code",
   "execution_count": 9,
   "id": "limiting-permit",
   "metadata": {},
   "outputs": [
    {
     "data": {
      "text/plain": [
       "'1.1.4'"
      ]
     },
     "execution_count": 9,
     "metadata": {},
     "output_type": "execute_result"
    }
   ],
   "source": [
    "import pandas as pd\n",
    "pd.__version__"
   ]
  },
  {
   "cell_type": "markdown",
   "id": "infrared-venture",
   "metadata": {},
   "source": [
    "### Random numbers' seed"
   ]
  },
  {
   "cell_type": "code",
   "execution_count": 10,
   "id": "political-narrow",
   "metadata": {},
   "outputs": [],
   "source": [
    "import random\n",
    "\n",
    "seed_val = 42\n",
    "random.seed(seed_val)\n",
    "np.random.seed(seed_val)\n",
    "torch.manual_seed(seed_val)\n",
    "torch.cuda.manual_seed_all(seed_val)"
   ]
  },
  {
   "cell_type": "markdown",
   "id": "uniform-partition",
   "metadata": {},
   "source": [
    "### Loading and preparing dataset"
   ]
  },
  {
   "cell_type": "code",
   "execution_count": 11,
   "id": "willing-drilling",
   "metadata": {},
   "outputs": [
    {
     "data": {
      "text/plain": [
       "['background', 'objective', 'method', 'result', 'other']"
      ]
     },
     "execution_count": 11,
     "metadata": {},
     "output_type": "execute_result"
    }
   ],
   "source": [
    "label_to_idx = {\n",
    "  'background' : 0, \n",
    "  'objective' : 1,\n",
    "  'method': 2, \n",
    "  'result': 3, \n",
    "  'other': 4\n",
    "}\n",
    "\n",
    "labels = [None] * len(label_to_idx)\n",
    "for l, idx in label_to_idx.items():\n",
    "  labels[idx] = l\n",
    "labels"
   ]
  },
  {
   "cell_type": "code",
   "execution_count": 12,
   "id": "conceptual-count",
   "metadata": {},
   "outputs": [],
   "source": [
    "from transformers import AutoTokenizer\n",
    "\n",
    "tokenizer = AutoTokenizer.from_pretrained(model_id)"
   ]
  },
  {
   "cell_type": "code",
   "execution_count": 13,
   "id": "streaming-theme",
   "metadata": {},
   "outputs": [],
   "source": [
    "import json\n",
    "\n",
    "dataset_path = './'\n",
    "\n",
    "def load_json(file_name):\n",
    "    blocks = []\n",
    "    labels = []\n",
    "    with open(dataset_path + file_name) as f:\n",
    "        for line in f:\n",
    "            json_dic = json.loads(line)\n",
    "            blocks.append(json_dic['sentences'])\n",
    "            labels.append(json_dic['labels'])\n",
    "    return blocks, labels\n"
   ]
  },
  {
   "cell_type": "code",
   "execution_count": 14,
   "id": "progressive-compilation",
   "metadata": {},
   "outputs": [],
   "source": [
    "from torch.utils.data import Dataset\n",
    "\n",
    "class SSCDatasetA(Dataset):\n",
    "    def __init__(self, tokenizer, file_name, max_sent_len, max_block_len=512):\n",
    "        \"\"\"\n",
    "        Creates a dataset from data in JSON file. Each item is this dataset object is a sentence block.\n",
    "        Arguments:\n",
    "            tokenizer: tokenizer of the transformer model exploited as sentence encoder.\n",
    "            file_name: name of JSON file.\n",
    "            max_sent_len: maximum number of characters in a sentence.\n",
    "            max_block_len: maximum number of tokens in a block.\n",
    "        \"\"\"\n",
    "        # Be aware as blocks may have different numbers of sentences, they may have different numbers of labels.\n",
    "        # For each block, we have number of labels equals to number of sentences.\n",
    "        blocks, self.labels = load_json(file_name)\n",
    "        # self.labels: list of list of strings (one list of labels for each block). shape: (n blocks, n labels in block)\n",
    "        for b, l in zip(blocks, self.labels):\n",
    "            if len(b) != len(l):\n",
    "                print('ERROR in the block:', b)\n",
    "                raise ValueError('Number of sentences different of the number of labels: {len(b)} != {len(l)}')\n",
    "        \n",
    "        self.targets = []  # list of tensors (one 1-D tensor for each block). shape: (n blocks, n labels in block)\n",
    "        for label_list in self.labels:\n",
    "            self.targets.append(\n",
    "                torch.tensor([label_to_idx[l] for l in label_list], dtype=torch.long)\n",
    "            )\n",
    "        \n",
    "        # adjusting the length of each sentence\n",
    "        for block in blocks:\n",
    "            for i in range(len(block)):\n",
    "                if len(block[i]) > max_sent_len:\n",
    "                    block[i] = block[i][0:max_sent_len]\n",
    "        \n",
    "        self.blocks = []\n",
    "        for block in blocks:\n",
    "            self.blocks.append(' [SEP] '.join(block))\n",
    "        tokens = tokenizer(\n",
    "            self.blocks, \n",
    "            add_special_tokens=True, \n",
    "            return_token_type_ids=False, \n",
    "            return_attention_mask=True, \n",
    "            truncation=True, \n",
    "            padding='max_length',\n",
    "            max_length=max_block_len,\n",
    "            return_tensors='pt'\n",
    "        )\n",
    "        # TODO: check if number of SEP tokens is equal to number of labels for each block\n",
    "        self.input_ids = tokens['input_ids']             # tensor for all blocks. shape: (n blocks, max_block_len)\n",
    "        self.attention_masks = tokens['attention_mask']  # tensor for all blocks. shape: (n blocks, max_block_len)\n",
    "\n",
    "    def __getitem__(self, index):\n",
    "        return {\n",
    "            'ids': self.input_ids[index],        # tensor of shape (max_block_len)\n",
    "            'mask': self.attention_masks[index], # tensor of shape (max_block_len)\n",
    "            'targets': self.targets[index],      # tensor of shape (n of labels in the block)\n",
    "            'labels': self.labels[index],        # list of size (n of labels in the block)\n",
    "            'block': self.blocks[index]          # a string\n",
    "        }\n",
    "    \n",
    "    def __len__(self):\n",
    "        return len(self.labels)\n"
   ]
  },
  {
   "cell_type": "code",
   "execution_count": 15,
   "id": "pacific-riding",
   "metadata": {},
   "outputs": [],
   "source": [
    "from torch.utils.data import Dataset\n",
    "\n",
    "class SSCDatasetB(Dataset):\n",
    "    def __init__(self, tokenizer, file_name, max_sent_len, max_block_len=512):\n",
    "        \"\"\"\n",
    "        Creates a dataset from data in JSON file. Each item is this dataset object is a sentence block.\n",
    "        Arguments:\n",
    "            tokenizer: tokenizer of the transformer model exploited as sentence encoder.\n",
    "            file_name: name of JSON file.\n",
    "            max_sent_len: maximum number of tokens in a sentence.\n",
    "            max_block_len: maximum number of tokens in a block.\n",
    "        \"\"\"\n",
    "        # Be aware as blocks may have different numbers of sentences, they may have different numbers of labels.\n",
    "        # For each block, we have number of labels equals to number of sentences.\n",
    "        blocks, self.labels = load_json(file_name)\n",
    "        # self.labels: list of list of strings (one list of labels for each block). shape: (n blocks, n labels in block)\n",
    "        for b, l in zip(blocks, self.labels):\n",
    "            if len(b) != len(l):\n",
    "                print('ERROR in the block:', b)\n",
    "                raise ValueError('Number of sentences different of the number of labels: {len(b)} != {len(l)}')\n",
    "        \n",
    "        self.targets = []  # list of tensors (one 1-D tensor for each block). shape: (n blocks, n labels in block)\n",
    "        for label_list in self.labels:\n",
    "            self.targets.append(\n",
    "                torch.tensor([label_to_idx[l] for l in label_list], dtype=torch.long)\n",
    "            )\n",
    "        \n",
    "        # adjusting the length of each sentence\n",
    "        for block in blocks:\n",
    "            for i in range(len(block)):\n",
    "                sent_ids = tokenizer.encode(\n",
    "                    block[i], \n",
    "                    add_special_tokens=False, \n",
    "                    padding=False,\n",
    "                    truncation=True,\n",
    "                    max_length=max_sent_len\n",
    "                )\n",
    "                block[i] = tokenizer.decode(sent_ids)\n",
    "        # toekninzing blocks\n",
    "        self.blocks = []\n",
    "        for block in blocks:\n",
    "            self.blocks.append(' [SEP] '.join(block))\n",
    "        tokens = tokenizer(\n",
    "            self.blocks, \n",
    "            add_special_tokens=True, \n",
    "            return_token_type_ids=False, \n",
    "            return_attention_mask=True, \n",
    "            truncation=True, \n",
    "            padding='max_length',\n",
    "            max_length=max_block_len,\n",
    "            return_tensors='pt'\n",
    "        )\n",
    "        self.input_ids = tokens['input_ids']             # tensor for all blocks. shape: (n blocks, max_block_len)\n",
    "        self.attention_masks = tokens['attention_mask']  # tensor for all blocks. shape: (n blocks, max_block_len)\n",
    "        \n",
    "        # checking whether the number of SEP tokens is equal to then number of labels as \n",
    "        # truncation might delete SEP tokens\n",
    "        SEP_id = tokenizer.convert_tokens_to_ids('[SEP]')\n",
    "        n_sep_tokens = torch.count_nonzero(self.input_ids == SEP_id)\n",
    "        n_labels = sum(map(lambda l: len(l), self.labels))\n",
    "        if n_sep_tokens != n_labels:\n",
    "            raise ValueError((\n",
    "                f'Number of SEP tokens ({n_sep_tokens}) different from the number of labels ({n_labels}). '\n",
    "                'Decrease max_sent_len or increase max_block_len to avoid this.'\n",
    "            ))\n",
    "        \n",
    "\n",
    "    def __getitem__(self, index):\n",
    "        return {\n",
    "            'ids': self.input_ids[index],        # tensor of shape (max_block_len)\n",
    "            'mask': self.attention_masks[index], # tensor of shape (max_block_len)\n",
    "            'targets': self.targets[index],      # tensor of shape (n of labels in the block)\n",
    "            'labels': self.labels[index],        # list of size (n of labels in the block)\n",
    "            'block': self.blocks[index]          # a string\n",
    "        }\n",
    "    \n",
    "    def __len__(self):\n",
    "        return len(self.labels)\n"
   ]
  },
  {
   "cell_type": "code",
   "execution_count": 16,
   "id": "accomplished-teacher",
   "metadata": {},
   "outputs": [],
   "source": [
    "def get_dataset(json_file):\n",
    "    if SENTENCE_LENGHT_UNIT == 'char':\n",
    "        return SSCDatasetA(tokenizer, json_file, MAX_SENTENCE_LENGTH, MAX_SEQUENCE_LENGTH)\n",
    "    elif SENTENCE_LENGHT_UNIT == 'token':\n",
    "        return SSCDatasetB(tokenizer, json_file, MAX_SENTENCE_LENGTH, MAX_SEQUENCE_LENGTH)\n",
    "    else:\n",
    "        raise ValueError(f'Invalid option for SENTENCE_LENGHT_UNIT param: \"{SENTENCE_LENGHT_UNIT}\"')\n",
    "\n",
    "train_ds = get_dataset('train.jsonl')\n",
    "#dev_ds = get_dataset('dev.jsonl')\n",
    "test_ds = get_dataset('test.jsonl')"
   ]
  },
  {
   "cell_type": "code",
   "execution_count": 17,
   "id": "found-remove",
   "metadata": {},
   "outputs": [],
   "source": [
    "def collate_batch(batch):\n",
    "    '''\n",
    "    Prepares a batch of dataset items.\n",
    "    Arguments:\n",
    "        batch: list of dataset items (dictionaries).\n",
    "    Returns:\n",
    "        A dictionary with following items:\n",
    "            'ids': tensor of input ids. Shape: (n blocks in batch, max_tokens)\n",
    "            'maks': tensor of attention masks. Shape: (n blocks in batch, max_tokens)\n",
    "            'targets': tensor of golden class ids. Shape: (n sentences)\n",
    "            'labels': list of golden labels. Shape: (n sentences)\n",
    "    '''\n",
    "    labels = []\n",
    "    targets = []\n",
    "    blocks = []\n",
    "    input_ids = None\n",
    "    masks = None\n",
    "    for entry in batch:\n",
    "        labels.extend(entry['labels'])\n",
    "        targets.extend(entry['targets'])\n",
    "        blocks.append(entry['block'])\n",
    "        if input_ids is None:\n",
    "            input_ids = entry['ids'].reshape(1,-1) # reshape to assure a 2-D tensor when the batch contains just one element\n",
    "            masks = entry['mask'].reshape(1,-1)\n",
    "        else:\n",
    "            input_ids = torch.vstack((input_ids, entry['ids']))\n",
    "            masks = torch.vstack((masks, entry['mask']))\n",
    "    return {\n",
    "        'ids': input_ids, \n",
    "        'mask': masks, \n",
    "        'targets': torch.tensor(targets, dtype=torch.long), \n",
    "        'labels': labels, \n",
    "        'blocks': blocks\n",
    "    }"
   ]
  },
  {
   "cell_type": "markdown",
   "id": "laughing-picking",
   "metadata": {},
   "source": [
    "### Model"
   ]
  },
  {
   "cell_type": "code",
   "execution_count": 18,
   "id": "induced-musician",
   "metadata": {},
   "outputs": [],
   "source": [
    "class SentenceClassifier(torch.nn.Module):\n",
    "    def __init__(self, encoder_id, n_classes, dropout_rate, sep_id, embedding_dim, use_mlp, n_hidden_mlp=100):\n",
    "        '''\n",
    "        Creates a classifier of sequential sentences as proposed in the Pretrained Language Models \n",
    "        for Sequential Sentence Classification paper. This model comprises a pre-trained sentence \n",
    "        encoder (BERT, RoBERTa, ALBERT, etc) and a classification head. The last can be a MLP (one \n",
    "        hidde layer) or a single layer classifier.\n",
    "        Arguments:\n",
    "            encoder_id: ID (string) of the encoder model in Hugging Faces repository.\n",
    "            n_classes: number of classes.\n",
    "            dropout_rate: dropout rate of classification layers.\n",
    "            sep_id: the ID of the [SEP] token.\n",
    "            embedding_dim: dimension of hidden units in the sentence encoder (e.g., 768 for BERT).\n",
    "            use_mlp: indicates the use of a MLP classifier (True) or a single layer one (False).\n",
    "            n_hidden_mlp: the number of hidden units of the MLP classifier.\n",
    "        '''\n",
    "        super(SentenceClassifier, self).__init__()\n",
    "        self.bert = transformers.AutoModel.from_pretrained(encoder_id)\n",
    "        self.SEP_id = sep_id\n",
    "        dropout = torch.nn.Dropout(dropout_rate)\n",
    "        n_classes = n_classes\n",
    "        if use_mlp:\n",
    "            dense_hidden = torch.nn.Linear(embedding_dim, n_hidden_mlp)\n",
    "            torch.nn.init.kaiming_uniform_(dense_hidden.weight)\n",
    "            relu = torch.nn.ReLU()\n",
    "            dense_out = torch.nn.Linear(n_hidden_mlp, n_classes)\n",
    "            torch.nn.init.xavier_uniform_(dense_out.weight)\n",
    "            self.classifier = torch.nn.Sequential(\n",
    "                dropout, dense_hidden, relu, dropout, dense_out\n",
    "            )\n",
    "        else:\n",
    "            dense_out = torch.nn.Linear(embedding_dim, n_classes)\n",
    "            torch.nn.init.xavier_uniform_(dense_out.weight)\n",
    "            self.classifier = torch.nn.Sequential(\n",
    "                dropout, dense_out\n",
    "            )\n",
    "\n",
    "    def forward(self, input_ids, attention_mask):\n",
    "        '''\n",
    "        Each call to this method process a batch of sentence blocks. The model takes account of \n",
    "        all sentences in block, but not all sentences in a document. There is no data sharing \n",
    "        among the blocks, so the model is unware of when blocks are from same document.\n",
    "        A block of sentences aggregates many sentences which are separated by \n",
    "        a [SEP] token. The first token in the block must be the [CLS] token.\n",
    "        This method returns one logit tensor for each sentence in the batch.\n",
    "        Arguments:\n",
    "            input_ids : tensor of shape (batch_size, n of tokens in block)\n",
    "            attention_mask : tensor of shape (batch_size, n of tokens in block)\n",
    "        Returns:\n",
    "            logits : tensor of shape (n of sentences in batch, n of classes)\n",
    "        '''\n",
    "        output_1 = self.bert(\n",
    "            input_ids=input_ids,              # input_ids.shape: (batch_size, seq_len)\n",
    "            attention_mask=attention_mask     # attention_mask.shape: (batch_size, seq_len)\n",
    "        )\n",
    "        \n",
    "        # yelds a logit tensor for each SEP token\n",
    "        # as the blocks may have different number of sentences, we have to iterate blocks\n",
    "        embeddings = None\n",
    "        for i in range(input_ids.shape[0]):\n",
    "            idx_sep = torch.nonzero(input_ids[i] == self.SEP_id, as_tuple=True)[0]\n",
    "            for idx in idx_sep: # iterates SEP tokens in current block\n",
    "                sep_emb = output_1.last_hidden_state[i, idx, :] # gets embeddings of a SEP token\n",
    "                if embeddings is None:\n",
    "                    embeddings = sep_emb\n",
    "                else:\n",
    "                    embeddings = torch.vstack((embeddings, sep_emb))\n",
    "        # embeddings.shape: (number of sentences in batch, hidden dimension)\n",
    "        logits = self.classifier(embeddings) # logits.shape: (number of sentences in batch, num of classes)\n",
    "        \n",
    "        return logits"
   ]
  },
  {
   "cell_type": "markdown",
   "id": "optional-malaysia",
   "metadata": {},
   "source": [
    "### Evaluation function"
   ]
  },
  {
   "cell_type": "code",
   "execution_count": 19,
   "id": "rising-glass",
   "metadata": {},
   "outputs": [],
   "source": [
    "from sklearn.metrics import precision_recall_fscore_support, confusion_matrix, ConfusionMatrixDisplay\n",
    "from tqdm import tqdm\n",
    "\n",
    "def evaluate(model, test_dataloader, loss_function):\n",
    "    predictions = torch.tensor([]).to(device)\n",
    "    y_true = torch.tensor([]).to(device)\n",
    "    eval_loss = 0\n",
    "    model.eval()\n",
    "    with torch.no_grad():\n",
    "        for batch in tqdm(test_dataloader, desc='Evaluation'): # iterates batches\n",
    "            ids = batch['ids'].to(device)\n",
    "            mask = batch['mask'].to(device)\n",
    "            y_true_batch = batch['targets'].to(device)\n",
    "            y_hat = model(ids, mask)\n",
    "            loss = loss_function(y_hat, y_true_batch)\n",
    "            eval_loss += loss.item()\n",
    "            predictions_batch = y_hat.argmax(dim=1)\n",
    "            predictions = torch.cat((predictions, predictions_batch))\n",
    "            y_true = torch.cat((y_true, y_true_batch))\n",
    "        predictions = predictions.detach().to('cpu').numpy()\n",
    "        y_true = y_true.detach().to('cpu').numpy()\n",
    "        eval_loss = eval_loss / len(test_dataloader)\n",
    "    t_metrics = precision_recall_fscore_support(\n",
    "        y_true, \n",
    "        predictions, \n",
    "        average='macro', \n",
    "        zero_division=0\n",
    "    )\n",
    "    cm = confusion_matrix(\n",
    "        y_true, \n",
    "        predictions\n",
    "    )\n",
    "    \n",
    "    return eval_loss, t_metrics[0], t_metrics[1], t_metrics[2], cm"
   ]
  },
  {
   "cell_type": "markdown",
   "id": "round-harbor",
   "metadata": {},
   "source": [
    "### Fine-tuning"
   ]
  },
  {
   "cell_type": "code",
   "execution_count": 20,
   "id": "later-lexington",
   "metadata": {},
   "outputs": [],
   "source": [
    "import sys, time\n",
    "from torch.utils.data import DataLoader\n",
    "\n",
    "def train(labels, train_params, ds_train, ds_test, tokenizer):\n",
    "    n_epochs = train_params['n_epochs']\n",
    "    max_sequence_len = train_params['max_sequence_len']\n",
    "    batch_size = train_params['batch_size']\n",
    "    \n",
    "    dl_train = DataLoader(ds_train, batch_size=batch_size, shuffle=False, collate_fn=collate_batch)\n",
    "    dl_test = DataLoader(ds_test, batch_size=batch_size, shuffle=False, collate_fn=collate_batch)\n",
    "    \n",
    "    sentence_classifier = SentenceClassifier(\n",
    "        model_id, \n",
    "        len(labels), # number of classes\n",
    "        train_params['dropout'], \n",
    "        tokenizer.convert_tokens_to_ids('[SEP]'), \n",
    "        embedding_dim, \n",
    "        train_params['use_mlp']\n",
    "    ).to(device)\n",
    "    \n",
    "    criterion = torch.nn.CrossEntropyLoss().to(device)\n",
    "    optimizer = torch.optim.Adam(\n",
    "        sentence_classifier.parameters(), \n",
    "        lr=train_params['learning_rate'], \n",
    "        betas=(0.9, 0.999), \n",
    "        eps=train_params['eps'], \n",
    "        weight_decay=train_params['weight_decay']\n",
    "    )\n",
    "    \n",
    "    lr_scheduler = transformers.get_linear_schedule_with_warmup(\n",
    "        optimizer, \n",
    "        num_warmup_steps = 0, \n",
    "        num_training_steps = len(dl_train) * n_epochs\n",
    "    )\n",
    "    \n",
    "    # pct_start controls LR warmup. If warmup is True, increases LR during the \n",
    "    # first 10% of steps. Otherwise, initial LR is equal to max LR\n",
    "    '''\n",
    "    num_training_steps = len(dl_train) * n_epochs\n",
    "    pct_start = 0.1 if train_params['warmup'] else 1e-100\n",
    "    lr_scheduler = torch.optim.lr_scheduler.OneCycleLR(\n",
    "        optimizer, \n",
    "        max_lr=train_params['learning_rate'], \n",
    "        total_steps=num_training_steps, \n",
    "        pct_start=pct_start,    \n",
    "        anneal_strategy='linear'\n",
    "    )\n",
    "    '''\n",
    "    \n",
    "    metrics = {} # key: epoch number, value: numpy tensor storing train loss, test loss, Precision, Recall, F1\n",
    "    confusion_matrices = {} # key: epoch number, value: scikit-learn's confusion matrix\n",
    "    for epoch in range(1, n_epochs + 1):\n",
    "        epoch_loss = 0\n",
    "        sentence_classifier.train()\n",
    "        for i_batch, train_data in enumerate(tqdm(dl_train, desc=f'Epoch {epoch} (train)')): # iterates batches\n",
    "            optimizer.zero_grad()\n",
    "            ids = train_data['ids'].to(device)\n",
    "            mask = train_data['mask'].to(device)\n",
    "            y_hat = sentence_classifier(ids, mask)\n",
    "            y_true = train_data['targets'].to(device)\n",
    "            loss = criterion(y_hat, y_true)\n",
    "            epoch_loss += loss.item()\n",
    "            loss.backward()\n",
    "            torch.nn.utils.clip_grad_norm_(sentence_classifier.parameters(), 1.0)\n",
    "            optimizer.step()\n",
    "            lr_scheduler.step()\n",
    "        epoch_loss = epoch_loss / len(dl_train)\n",
    "        # evaluation\n",
    "        optimizer.zero_grad()\n",
    "        eval_loss, p, r, f1, cm = evaluate(sentence_classifier, dl_test, criterion)\n",
    "        #storing metrics\n",
    "        metrics[epoch] = np.array([epoch_loss, eval_loss, p, r, f1])\n",
    "        confusion_matrices[epoch] = cm\n",
    "        print(f'=> Epoch {epoch}')\n",
    "        print(f'  Train loss: {epoch_loss:.6f}')\n",
    "        print(f'  Test loss:  {eval_loss:.6f}')\n",
    "        print(f'  Precision:  {p:.6f}')\n",
    "        print(f'  Recall:     {r:.6f}')\n",
    "        print(f'  F1:         {f1:.6f}')\n",
    "        cmDisplay = ConfusionMatrixDisplay(cm, display_labels=labels)\n",
    "        cmDisplay.plot()\n",
    "        cmDisplay.ax_.set_title(f'Epoch: {epoch}')\n",
    "        cmDisplay.ax_.figure.autofmt_xdate(rotation=45)\n",
    "        time.sleep(0.5) # in order to don't mess the progress bars\n",
    "    \n",
    "    return metrics, confusion_matrices\n"
   ]
  },
  {
   "cell_type": "code",
   "execution_count": 21,
   "id": "clear-nitrogen",
   "metadata": {},
   "outputs": [
    {
     "name": "stderr",
     "output_type": "stream",
     "text": [
      "Some weights of the model checkpoint at allenai/scibert_scivocab_uncased were not used when initializing BertModel: ['cls.seq_relationship.bias', 'cls.predictions.bias', 'cls.predictions.decoder.weight', 'cls.seq_relationship.weight', 'cls.predictions.decoder.bias', 'cls.predictions.transform.dense.weight', 'cls.predictions.transform.LayerNorm.bias', 'cls.predictions.transform.LayerNorm.weight', 'cls.predictions.transform.dense.bias']\n",
      "- This IS expected if you are initializing BertModel from the checkpoint of a model trained on another task or with another architecture (e.g. initializing a BertForSequenceClassification model from a BertForPreTraining model).\n",
      "- This IS NOT expected if you are initializing BertModel from the checkpoint of a model that you expect to be exactly identical (initializing a BertForSequenceClassification model from a BertForSequenceClassification model).\n",
      "Epoch 1 (train): 100%|██████████| 417/417 [01:42<00:00,  4.09it/s]\n",
      "Evaluation: 100%|██████████| 57/57 [00:04<00:00, 13.61it/s]\n"
     ]
    },
    {
     "name": "stdout",
     "output_type": "stream",
     "text": [
      "=> Epoch 1\n",
      "  Train loss: 1.106818\n",
      "  Test loss:  0.523015\n",
      "  Precision:  0.812535\n",
      "  Recall:     0.802126\n",
      "  F1:         0.803987\n"
     ]
    },
    {
     "name": "stderr",
     "output_type": "stream",
     "text": [
      "Epoch 2 (train): 100%|██████████| 417/417 [01:44<00:00,  4.01it/s]\n",
      "Evaluation: 100%|██████████| 57/57 [00:04<00:00, 13.20it/s]\n"
     ]
    },
    {
     "name": "stdout",
     "output_type": "stream",
     "text": [
      "=> Epoch 2\n",
      "  Train loss: 0.794184\n",
      "  Test loss:  0.484928\n",
      "  Precision:  0.822683\n",
      "  Recall:     0.803896\n",
      "  F1:         0.807177\n"
     ]
    },
    {
     "data": {
      "image/png": "[encoded data removed]",
      "text/plain": [
       "<Figure size 432x288 with 2 Axes>"
      ]
     },
     "metadata": {
      "needs_background": "light"
     },
     "output_type": "display_data"
    },
    {
     "data": {
      "image/png": "[encoded data removed]",
      "text/plain": [
       "<Figure size 432x288 with 2 Axes>"
      ]
     },
     "metadata": {
      "needs_background": "light"
     },
     "output_type": "display_data"
    }
   ],
   "source": [
    "### %%time\n",
    "# Training params\n",
    "train_params = {\n",
    "  'n_epochs' : N_EPOCHS, \n",
    "  'batch_size' : BATCH_SIZE,\n",
    "  'learning_rate' : LEARNING_RATE, \n",
    "  'weight_decay' : 1e-3, \n",
    "  'eps' : 1e-8, \n",
    "  'dropout' : DROPOUT, \n",
    "  'use_mlp' : USE_MLP,\n",
    "  'warmup' : False, \n",
    "  'max_sequence_len' : MAX_SEQUENCE_LENGTH\n",
    "}\n",
    "\n",
    "device = torch.device(\"cuda:0\" if torch.cuda.is_available() else \"cpu\")\n",
    "raw_metrics, confusion_matrices = train(labels, train_params, train_ds, test_ds, tokenizer)\n",
    "\n",
    "metrics = pd.DataFrame(columns=['Epoch', 'Train loss', 'Test loss', 'Precision', 'Recall', 'F1'])\n",
    "for i, (epoch, scores) in enumerate(raw_metrics.items()):\n",
    "  metrics.loc[i] = [\n",
    "      f'{epoch}', \n",
    "      f'{scores[0]:.6f}',  # train loss\n",
    "      f'{scores[1]:.6f}',  # test loss\n",
    "      f'{scores[2]:.4f}',  # precision\n",
    "      f'{scores[3]:.4f}',  # recall\n",
    "      f'{scores[4]:.4f}'   # f1\n",
    "    ]"
   ]
  },
  {
   "cell_type": "markdown",
   "id": "closed-trailer",
   "metadata": {},
   "source": [
    "### Outline"
   ]
  },
  {
   "cell_type": "code",
   "execution_count": 22,
   "id": "enabling-edgar",
   "metadata": {},
   "outputs": [],
   "source": [
    "from datetime import datetime\n",
    "\n",
    "def save_report(metrics, labels, confusion_matrices, train_params, dest_dir):\n",
    "  \"\"\"\n",
    "  Arguments:\n",
    "    metrics : A pandas Dataframe with the metrics.\n",
    "    labels : list of all labels.\n",
    "    confusion_matrices : A dictionary => key: fold_id, value: dictionary (key: epoch, value: confusion matrix)\n",
    "    train_params : A dictionary.\n",
    "    dest_dir : The directory where the report will be saved.\n",
    "  \"\"\"\n",
    "  report = (\n",
    "      'RESULTS REPORT\\n'\n",
    "      f'Model: {model_reference}\\n'\n",
    "      f'Encoder: {model_id}\\n'\n",
    "      'Train scheme: fine-tuning\\n'\n",
    "      f'Batch size: {train_params[\"batch_size\"]}\\n'\n",
    "      f'Maximum sentence length: {MAX_SENTENCE_LENGTH}\\n'\n",
    "      f'Sentence length unit: {SENTENCE_LENGHT_UNIT}\\n'\n",
    "      f'Maximum number of tokens in a block: {train_params[\"max_sequence_len\"]}\\n'\n",
    "      f'Dropout rate: {train_params[\"dropout\"]}\\n'\n",
    "      f'Learning rate: {train_params[\"learning_rate\"]}\\n'\n",
    "      f'Eps: {train_params[\"eps\"]}\\n'\n",
    "      f'LR warmup: {train_params[\"warmup\"]}\\n'\n",
    "      f'Use MLP: {train_params[\"use_mlp\"]}\\n'\n",
    "      f'Weight decay: {train_params[\"weight_decay\"]}\\n\\n'\n",
    "  )\n",
    "  \n",
    "  report += 'Metrics:\\n'\n",
    "  report += metrics.to_string(index=False, justify='center')\n",
    "  \n",
    "  report += f'\\nConfusion matrices\\n{\"-\"*18}\\n'\n",
    "  for i, label in enumerate(labels):\n",
    "    report += f'{label}: {i} \\n'\n",
    "  for e, cm in confusion_matrices.items():\n",
    "      report += f'Epoch {e}:\\n{cm}\\n'\n",
    "    \n",
    "  with open(dest_dir + f'report-{model_reference}_ft_{datetime.now().strftime(\"%Y-%m-%d-%Hh%Mmin\")}.txt', 'w') as f:\n",
    "    f.write(report)"
   ]
  },
  {
   "cell_type": "code",
   "execution_count": 23,
   "id": "royal-steps",
   "metadata": {},
   "outputs": [],
   "source": [
    "save_report(metrics, labels, confusion_matrices, train_params, './')"
   ]
  },
  {
   "cell_type": "code",
   "execution_count": 24,
   "id": "dress-portal",
   "metadata": {},
   "outputs": [
    {
     "data": {
      "text/html": [
       "<div>\n",
       "<style scoped>\n",
       "    .dataframe tbody tr th:only-of-type {\n",
       "        vertical-align: middle;\n",
       "    }\n",
       "\n",
       "    .dataframe tbody tr th {\n",
       "        vertical-align: top;\n",
       "    }\n",
       "\n",
       "    .dataframe thead th {\n",
       "        text-align: right;\n",
       "    }\n",
       "</style>\n",
       "<table border=\"1\" class=\"dataframe\">\n",
       "  <thead>\n",
       "    <tr style=\"text-align: right;\">\n",
       "      <th></th>\n",
       "      <th>Epoch</th>\n",
       "      <th>Train loss</th>\n",
       "      <th>Test loss</th>\n",
       "      <th>Precision</th>\n",
       "      <th>Recall</th>\n",
       "      <th>F1</th>\n",
       "    </tr>\n",
       "  </thead>\n",
       "  <tbody>\n",
       "    <tr>\n",
       "      <th>0</th>\n",
       "      <td>1</td>\n",
       "      <td>1.106818</td>\n",
       "      <td>0.523015</td>\n",
       "      <td>0.8125</td>\n",
       "      <td>0.8021</td>\n",
       "      <td>0.8040</td>\n",
       "    </tr>\n",
       "    <tr>\n",
       "      <th>1</th>\n",
       "      <td>2</td>\n",
       "      <td>0.794184</td>\n",
       "      <td>0.484928</td>\n",
       "      <td>0.8227</td>\n",
       "      <td>0.8039</td>\n",
       "      <td>0.8072</td>\n",
       "    </tr>\n",
       "  </tbody>\n",
       "</table>\n",
       "</div>"
      ],
      "text/plain": [
       "  Epoch Train loss Test loss Precision  Recall      F1\n",
       "0     1   1.106818  0.523015    0.8125  0.8021  0.8040\n",
       "1     2   0.794184  0.484928    0.8227  0.8039  0.8072"
      ]
     },
     "metadata": {},
     "output_type": "display_data"
    }
   ],
   "source": [
    "from IPython.display import display, HTML\n",
    "\n",
    "metrics_display = display(metrics, display_id='metrics_table')"
   ]
  },
  {
   "cell_type": "code",
   "execution_count": null,
   "id": "tribal-spirit",
   "metadata": {},
   "outputs": [],
   "source": []
  }
 ],
 "metadata": {
  "kernelspec": {
   "display_name": "Python 3",
   "language": "python",
   "name": "python3"
  },
  "language_info": {
   "codemirror_mode": {
    "name": "ipython",
    "version": 3
   },
   "file_extension": ".py",
   "mimetype": "text/x-python",
   "name": "python",
   "nbconvert_exporter": "python",
   "pygments_lexer": "ipython3",
   "version": "3.8.8"
  }
 },
 "nbformat": 4,
 "nbformat_minor": 5
}
